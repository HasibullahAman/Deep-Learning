{
  "nbformat": 4,
  "nbformat_minor": 0,
  "metadata": {
    "colab": {
      "provenance": [],
      "authorship_tag": "ABX9TyNt+Hq5u6hea3WCelU+/VA4",
      "include_colab_link": true
    },
    "kernelspec": {
      "name": "python3",
      "display_name": "Python 3"
    },
    "language_info": {
      "name": "python"
    }
  },
  "cells": [
    {
      "cell_type": "markdown",
      "metadata": {
        "id": "view-in-github",
        "colab_type": "text"
      },
      "source": [
        "<a href=\"https://colab.research.google.com/github/HasibullahAman/Deep-Learning/blob/main/Zero_Padding.ipynb\" target=\"_parent\"><img src=\"https://colab.research.google.com/assets/colab-badge.svg\" alt=\"Open In Colab\"/></a>"
      ]
    },
    {
      "cell_type": "code",
      "execution_count": 10,
      "metadata": {
        "id": "jt6AyXa4FmBx"
      },
      "outputs": [],
      "source": [
        "import keras\n",
        "from keras.models import Sequential\n",
        "from keras.layers import Activation\n",
        "from keras.layers.core import Dense, Flatten\n",
        "from keras.layers.convolutional import *\n",
        "from keras.layers.pooling import *"
      ]
    },
    {
      "cell_type": "code",
      "source": [
        "models_valid = Sequential([\n",
        "    Dense(16,activation='relu',input_shape=(20,20,3)),\n",
        "    Conv2D(32,kernel_size=(3,3),activation='relu',padding='valid'),\n",
        "    Conv2D(64,kernel_size = (5,5),activation = 'relu',padding='valid'),\n",
        "    Conv2D(128,kernel_size=(7,7),activation='relu',padding=\"valid\"),\n",
        "    Flatten(),\n",
        "    Dense(2,activation='softmax')\n",
        "]) "
      ],
      "metadata": {
        "id": "hSxHeRwTGFGF"
      },
      "execution_count": 4,
      "outputs": []
    },
    {
      "cell_type": "code",
      "source": [
        "models_valid.summary()"
      ],
      "metadata": {
        "colab": {
          "base_uri": "https://localhost:8080/"
        },
        "id": "jkHcOOjhIHLL",
        "outputId": "75e87889-93b0-4904-e432-4485461e8935"
      },
      "execution_count": 6,
      "outputs": [
        {
          "output_type": "stream",
          "name": "stdout",
          "text": [
            "Model: \"sequential\"\n",
            "_________________________________________________________________\n",
            " Layer (type)                Output Shape              Param #   \n",
            "=================================================================\n",
            " dense (Dense)               (None, 20, 20, 16)        64        \n",
            "                                                                 \n",
            " conv2d (Conv2D)             (None, 18, 18, 32)        4640      \n",
            "                                                                 \n",
            " conv2d_1 (Conv2D)           (None, 14, 14, 64)        51264     \n",
            "                                                                 \n",
            " conv2d_2 (Conv2D)           (None, 8, 8, 128)         401536    \n",
            "                                                                 \n",
            " flatten (Flatten)           (None, 8192)              0         \n",
            "                                                                 \n",
            " dense_1 (Dense)             (None, 2)                 16386     \n",
            "                                                                 \n",
            "=================================================================\n",
            "Total params: 473,890\n",
            "Trainable params: 473,890\n",
            "Non-trainable params: 0\n",
            "_________________________________________________________________\n"
          ]
        }
      ]
    },
    {
      "cell_type": "code",
      "source": [
        "models_valid = Sequential([\n",
        "    Dense(16,activation = 'relu',input_shape=(20,20,3)),\n",
        "    Conv2D(32,kernel_size=(3,3),activation='relu',padding='same'),\n",
        "    Conv2D(64,kernel_size=(5,5),activation='relu',padding='same'),\n",
        "    Conv2D(128,kernel_size=(7,7),activation='relu',padding='same'),\n",
        "    Flatten(),\n",
        "    Dense(2,activation='softmax')\n",
        "])"
      ],
      "metadata": {
        "id": "nGjDygXCIfn3"
      },
      "execution_count": 8,
      "outputs": []
    },
    {
      "cell_type": "code",
      "source": [
        "models_valid.summary()"
      ],
      "metadata": {
        "colab": {
          "base_uri": "https://localhost:8080/"
        },
        "id": "XBRWbs1GJi5n",
        "outputId": "b8d86859-82cf-44a0-a740-3a6e80a1dcca"
      },
      "execution_count": 9,
      "outputs": [
        {
          "output_type": "stream",
          "name": "stdout",
          "text": [
            "Model: \"sequential_1\"\n",
            "_________________________________________________________________\n",
            " Layer (type)                Output Shape              Param #   \n",
            "=================================================================\n",
            " dense_3 (Dense)             (None, 20, 20, 16)        64        \n",
            "                                                                 \n",
            " conv2d_3 (Conv2D)           (None, 20, 20, 32)        4640      \n",
            "                                                                 \n",
            " conv2d_4 (Conv2D)           (None, 20, 20, 64)        51264     \n",
            "                                                                 \n",
            " conv2d_5 (Conv2D)           (None, 20, 20, 128)       401536    \n",
            "                                                                 \n",
            " flatten_1 (Flatten)         (None, 51200)             0         \n",
            "                                                                 \n",
            " dense_4 (Dense)             (None, 2)                 102402    \n",
            "                                                                 \n",
            "=================================================================\n",
            "Total params: 559,906\n",
            "Trainable params: 559,906\n",
            "Non-trainable params: 0\n",
            "_________________________________________________________________\n"
          ]
        }
      ]
    },
    {
      "cell_type": "code",
      "source": [
        "models_valid = Sequential([\n",
        "    Dense(16,activation = 'relu',input_shape=(20,20,3)),\n",
        "    Conv2D(32,kernel_size=(3,3),activation='relu',padding='same'),\n",
        "    Conv2D(64,kernel_size=(5,5),activation='relu',padding='same'),\n",
        "    MaxPooling2D(pool_size=(4,4),strides=2,padding='valid'),\n",
        "    Conv2D(128,kernel_size=(7,7),activation='relu',padding='same'),\n",
        "    Flatten(),\n",
        "    Dense(2,activation='softmax')\n",
        "])"
      ],
      "metadata": {
        "id": "43omphriJtbB"
      },
      "execution_count": 13,
      "outputs": []
    },
    {
      "cell_type": "code",
      "source": [
        "models_valid.summary()"
      ],
      "metadata": {
        "colab": {
          "base_uri": "https://localhost:8080/"
        },
        "id": "zunwFJEiPJ34",
        "outputId": "a6562da6-7914-4d74-d78e-be104ecc6184"
      },
      "execution_count": 14,
      "outputs": [
        {
          "output_type": "stream",
          "name": "stdout",
          "text": [
            "Model: \"sequential_3\"\n",
            "_________________________________________________________________\n",
            " Layer (type)                Output Shape              Param #   \n",
            "=================================================================\n",
            " dense_7 (Dense)             (None, 20, 20, 16)        64        \n",
            "                                                                 \n",
            " conv2d_9 (Conv2D)           (None, 20, 20, 32)        4640      \n",
            "                                                                 \n",
            " conv2d_10 (Conv2D)          (None, 20, 20, 64)        51264     \n",
            "                                                                 \n",
            " max_pooling2d_1 (MaxPooling  (None, 9, 9, 64)         0         \n",
            " 2D)                                                             \n",
            "                                                                 \n",
            " conv2d_11 (Conv2D)          (None, 9, 9, 128)         401536    \n",
            "                                                                 \n",
            " flatten_3 (Flatten)         (None, 10368)             0         \n",
            "                                                                 \n",
            " dense_8 (Dense)             (None, 2)                 20738     \n",
            "                                                                 \n",
            "=================================================================\n",
            "Total params: 478,242\n",
            "Trainable params: 478,242\n",
            "Non-trainable params: 0\n",
            "_________________________________________________________________\n"
          ]
        }
      ]
    },
    {
      "cell_type": "code",
      "source": [],
      "metadata": {
        "id": "ZKhw0HzXPMfC"
      },
      "execution_count": null,
      "outputs": []
    }
  ]
}