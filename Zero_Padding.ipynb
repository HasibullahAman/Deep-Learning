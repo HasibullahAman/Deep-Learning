{
  "nbformat": 4,
  "nbformat_minor": 0,
  "metadata": {
    "colab": {
      "provenance": [],
      "authorship_tag": "ABX9TyNQ0DW+49xn1u+7jI4ExNKA",
      "include_colab_link": true
    },
    "kernelspec": {
      "name": "python3",
      "display_name": "Python 3"
    },
    "language_info": {
      "name": "python"
    }
  },
  "cells": [
    {
      "cell_type": "markdown",
      "metadata": {
        "id": "view-in-github",
        "colab_type": "text"
      },
      "source": [
        "<a href=\"https://colab.research.google.com/github/HasibullahAman/Deep-Learning/blob/main/Zero_Padding.ipynb\" target=\"_parent\"><img src=\"https://colab.research.google.com/assets/colab-badge.svg\" alt=\"Open In Colab\"/></a>"
      ]
    },
    {
      "cell_type": "code",
      "execution_count": 2,
      "metadata": {
        "id": "jt6AyXa4FmBx"
      },
      "outputs": [],
      "source": [
        "import keras\n",
        "from keras.models import Sequential\n",
        "from keras.layers import Activation\n",
        "from keras.layers.core import Dense, Flatten\n",
        "from keras.layers.convolutional import *"
      ]
    },
    {
      "cell_type": "code",
      "source": [
        "models_valid = Sequential([\n",
        "    Dense(16,activation='relu',input_shape=(20,20,3)),\n",
        "    Conv2D(32,kernel_size=(3,3),activation='relu',padding='valid'),\n",
        "    Conv2D(64,kernel_size = (5,5),activation = 'relu',padding='valid'),\n",
        "    Conv2D(128,kernel_size=(7,7),activation='relu',padding=\"valid\"),\n",
        "    Flatten(),\n",
        "    Dense(2,activation='softmax')\n",
        "]) "
      ],
      "metadata": {
        "id": "hSxHeRwTGFGF"
      },
      "execution_count": 4,
      "outputs": []
    },
    {
      "cell_type": "code",
      "source": [],
      "metadata": {
        "id": "jkHcOOjhIHLL"
      },
      "execution_count": null,
      "outputs": []
    }
  ]
}